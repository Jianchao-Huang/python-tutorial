{
 "cells": [
  {
   "cell_type": "code",
   "execution_count": 1,
   "metadata": {},
   "outputs": [
    {
     "name": "stdout",
     "output_type": "stream",
     "text": [
      "hello world\n"
     ]
    }
   ],
   "source": [
    "\n",
    "        \n",
    "# Python is an int erpreted, high-level, general-purpose programming language. \n",
    "\n"
   ]
  },
  {
   "cell_type": "code",
   "execution_count": 4,
   "metadata": {},
   "outputs": [
    {
     "name": "stdout",
     "output_type": "stream",
     "text": [
      "coronavirus goes away\n",
      "2020\n",
      "4040\n",
      "20202020\n"
     ]
    }
   ],
   "source": [
    "print(\"coronavirus goes away\")\n",
    "# hash sign() - comment\n",
    "# print() a function: a magic box giving what you want\n",
    "# The print function in Python is a function that outputs to your console window whatever you say you want to print out. \n",
    "# A function is a set of statements that take inputs, do some specific computation and produces output. \n",
    "\n",
    "#\"coronavirus goes away\" is a \"string\"\n",
    "# \"string\": an ordered sequence of characters\n",
    "\n",
    "print(2020)\n",
    "#\"integer\": a whole number\n",
    "\n",
    "print(2020 + 2020)\n",
    "print(\"2020\" + \"2020\")\n",
    "# difference between string and integer"
   ]
  },
  {
   "cell_type": "code",
   "execution_count": 8,
   "metadata": {},
   "outputs": [
    {
     "name": "stdout",
     "output_type": "stream",
     "text": [
      "what is wrong with 2020\n"
     ]
    }
   ],
   "source": [
    "print(\"what is wrong with\" + \" 2020\")\n"
   ]
  },
  {
   "cell_type": "code",
   "execution_count": null,
   "metadata": {},
   "outputs": [],
   "source": [
    "# to use python turtle, go to  https://repl.it/languages/python_turtle\n",
    "\n",
    "# Let's draw a square\n",
    "from turtle import *\n",
    "# turtle is a library\n",
    "# * means every function\n",
    "forward(100)\n",
    "# go forward by 100 steps\n",
    "left(90)\n",
    "# turn left by 90 degrees\n",
    "forward(100)\n",
    "left(90)\n",
    "forward(100)\n",
    "left(90)\n",
    "forward(100)"
   ]
  },
  {
   "cell_type": "code",
   "execution_count": null,
   "metadata": {},
   "outputs": [],
   "source": [
    "for line in range(4):\n",
    "  forward(100)\n",
    "  left(90)\n",
    "# range() function returns a sequence of numbers,[0,4) in math\n",
    "# range(4) = [0, 1, 2, 3]"
   ]
  },
  {
   "cell_type": "code",
   "execution_count": null,
   "metadata": {},
   "outputs": [],
   "source": [
    "hit_areas = ['Manhattan', 'LIC', 'Brooklyn']\n",
    "# list: ordered sequence of objects\n",
    "for area in hit_areas:\n",
    "    print(area, \"is hit hard\")"
   ]
  },
  {
   "cell_type": "code",
   "execution_count": null,
   "metadata": {},
   "outputs": [],
   "source": [
    "# draw a triangle\n",
    "  for i in range(3):\n",
    "    forward(100)\n",
    "    right(120)\n",
    "    \n",
    "# define a function: make a magic box yourself\n",
    "def ColorfulTriangle(x):\n",
    "  color(x)\n",
    "  for i in range(3):\n",
    "    forward(100)\n",
    "    right(120)\n",
    "# x is a parameter, which is the data you pass into the function, and you can name it whatever you want\n",
    "\n",
    "ColorfulTriangle(\"pink\")\n",
    "ColorfulTriangle(\"green\")\n",
    "# call a function\n",
    "# the number of parameters is not limited\n",
    "def ColorfulTriangle(x, steps):\n",
    "  color(x)\n",
    "  for i in range(3):\n",
    "    forward(steps)\n",
    "    right(120)\n",
    "ColorfulTriangle(\"yellow\", 150)"
   ]
  },
  {
   "cell_type": "code",
   "execution_count": null,
   "metadata": {},
   "outputs": [],
   "source": []
  },
  {
   "cell_type": "code",
   "execution_count": 13,
   "metadata": {},
   "outputs": [],
   "source": [
    "Trump = \"diot\"\n",
    "# Trump is a variable\n",
    "# Variables are containers for storing data values"
   ]
  },
  {
   "cell_type": "code",
   "execution_count": 16,
   "metadata": {},
   "outputs": [
    {
     "name": "stdout",
     "output_type": "stream",
     "text": [
      "I don't believe it\n"
     ]
    }
   ],
   "source": [
    "if Trump == 'diot':\n",
    "    print(\"God saves America\")\n",
    "else:\n",
    "    print(\"I don't believe it\")"
   ]
  },
  {
   "cell_type": "code",
   "execution_count": 30,
   "metadata": {},
   "outputs": [
    {
     "name": "stdout",
     "output_type": "stream",
     "text": [
      "he is at risk\n"
     ]
    }
   ],
   "source": [
    "Trump_age = 73\n",
    "Ivanka_age = 38\n",
    "if Trump_age or Ivanka_age> 60:\n",
    "    print(\"he is a susceptible person\")\n",
    "else:\n",
    "    print(\"they are not both susceptible\")"
   ]
  },
  {
   "cell_type": "code",
   "execution_count": 1,
   "metadata": {},
   "outputs": [
    {
     "name": "stdout",
     "output_type": "stream",
     "text": [
      "Hello, my name is Robert Downey and my age is 55\n",
      "My character is Iron Man in The Avengers\n",
      "Hello, my name is Chris Evans and my age is 41\n",
      "My character is Captain America in The Avengers\n"
     ]
    }
   ],
   "source": [
    "class superhero: \n",
    "  background = \"The Avengers\" \n",
    "# background is an attribute of super heros in common\n",
    "  def __init__(self, name, age, character):\n",
    "    self.name = name\n",
    "    self.age = age\n",
    "    self.character = character\n",
    "# define unique attributes for superhero\n",
    "  def say_hi(self):\n",
    "    print(\"Hello, my name is\", self.name, \"and my age is\", self.age)\n",
    "    print(\"My character is\", self.character, \"in\", self.background)\n",
    "# define methods or you can inmagine it as a skill of each super hero\n",
    "# method is like function\n",
    "\n",
    "IronMan = superhero(\"Robert Downey\", 55, \"Iron Man\")\n",
    "IronMan.say_hi()\n",
    "\n",
    "\n",
    "AmericanCaptain = superhero(\"Chris Evans\", 41, \"Captain America\")\n",
    "AmericanCaptain.say_hi()"
   ]
  },
  {
   "cell_type": "code",
   "execution_count": 32,
   "metadata": {},
   "outputs": [
    {
     "name": "stdout",
     "output_type": "stream",
     "text": [
      "Manhattan is hit hard\n",
      "LIC is hit hard\n",
      "Brooklyn is hit hard\n"
     ]
    }
   ],
   "source": []
  },
  {
   "cell_type": "code",
   "execution_count": 3,
   "metadata": {},
   "outputs": [
    {
     "name": "stdout",
     "output_type": "stream",
     "text": [
      "New York needs lots of help!\n",
      "New Jersey needs lots of help!\n",
      "California needs some help!\n",
      "Texas needs some help!\n"
     ]
    }
   ],
   "source": [
    "infected_cases = {'New York': 74319, 'New Jersey': 4407, 'California': 3247, 'Texas': 1421}\n",
    "# dictionary:  Unordered Key: Value pairs\n",
    "# like a real dictionary ：each word has its explaination\n",
    "for state in infected_cases:\n",
    "    if infected_cases[state] > 4000:\n",
    "        print(state, \"needs lots of help!\")\n",
    "    else:\n",
    "        print(state, \"needs some help!\")\n",
    "# dictionary[key]: the way to access the paired value"
   ]
  },
  {
   "cell_type": "code",
   "execution_count": null,
   "metadata": {},
   "outputs": [],
   "source": []
  },
  {
   "cell_type": "code",
   "execution_count": null,
   "metadata": {},
   "outputs": [],
   "source": [
    "import pandas as pd\n",
    "# the name following as is the local name for the library\n",
    "import pandas_datareader.data as web\n",
    "import datetime as dt\n",
    "\n",
    "import matplotlib.pyplot as plt\n",
    "# from matplotlib import style\n",
    "\n",
    "\n",
    "start = dt.datetime(2020, 1, 1)\n",
    "end = dt.datetime(2020, 3, 26)\n",
    "# create date object that pandas could understand\n",
    "\n",
    "data = web.DataReader('TSLA', 'yahoo', start, end)\n",
    "# call a function to get data \n",
    "\n",
    "print(data.tail())\n",
    "# get the last 5 rows of data\n",
    "\n",
    "data.to_csv('tsla.csv')\n",
    "# download the data\n",
    "\n",
    "data = pd.read_csv('tsla.csv', parse_dates = True, index_col = 0)\n",
    "print(data.head())\n",
    "#get the first 5 rows of data\n",
    "\n",
    "data['Adj Close'].plot()\n",
    "plt.savefig('closePrice.png')\n",
    "\n",
    "\n",
    "# A moving average is used to smooth out short-term fluctuations and highlight longer-term trends. \n",
    "data['15ma'] = data['Adj Close'].rolling(window = 15).mean()\n",
    "\n",
    "data['15ma'].plot()\n",
    "plt.savefig('15ma.png')"
   ]
  }
 ],
 "metadata": {
  "kernelspec": {
   "display_name": "Python 3",
   "language": "python",
   "name": "python3"
  },
  "language_info": {
   "codemirror_mode": {
    "name": "ipython",
    "version": 3
   },
   "file_extension": ".py",
   "mimetype": "text/x-python",
   "name": "python",
   "nbconvert_exporter": "python",
   "pygments_lexer": "ipython3",
   "version": "3.7.6"
  }
 },
 "nbformat": 4,
 "nbformat_minor": 4
}
