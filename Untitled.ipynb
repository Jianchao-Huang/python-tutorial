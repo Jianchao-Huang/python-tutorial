{
 "cells": [
  {
   "cell_type": "code",
   "execution_count": 1,
   "metadata": {},
   "outputs": [
    {
     "name": "stdout",
     "output_type": "stream",
     "text": [
      "hello world\n"
     ]
    }
   ],
   "source": [
    "print(\"hello world\")"
   ]
  },
  {
   "cell_type": "code",
   "execution_count": 8,
   "metadata": {},
   "outputs": [
    {
     "name": "stdout",
     "output_type": "stream",
     "text": [
      "what is wrong with 2020\n"
     ]
    }
   ],
   "source": [
    "print(\"what is wrong with\" + \" 2020\")\n"
   ]
  },
  {
   "cell_type": "code",
   "execution_count": null,
   "metadata": {},
   "outputs": [],
   "source": [
    "# Let's draw a square\n",
    "forward(100)\n",
    "left(90)\n",
    "forward(100)\n",
    "left(90)\n",
    "forward(100)\n",
    "left(90)\n",
    "forward(100)"
   ]
  },
  {
   "cell_type": "code",
   "execution_count": null,
   "metadata": {},
   "outputs": [],
   "source": [
    "for line in range(4):\n",
    "  forward(100)\n",
    "  left(90)"
   ]
  },
  {
   "cell_type": "code",
   "execution_count": null,
   "metadata": {},
   "outputs": [],
   "source": [
    "# draw a triangle\n",
    "def ColorfulTriangle(x):\n",
    "  color(x)\n",
    "  for i in range(3):\n",
    "    forward(100)\n",
    "    right(120)\n",
    "    \n",
    "ColorfulTriangle(\"green\")"
   ]
  },
  {
   "cell_type": "code",
   "execution_count": null,
   "metadata": {},
   "outputs": [],
   "source": []
  },
  {
   "cell_type": "code",
   "execution_count": 13,
   "metadata": {},
   "outputs": [],
   "source": [
    "Trump = \"diot\""
   ]
  },
  {
   "cell_type": "code",
   "execution_count": 16,
   "metadata": {},
   "outputs": [
    {
     "name": "stdout",
     "output_type": "stream",
     "text": [
      "I don't believe it\n"
     ]
    }
   ],
   "source": [
    "if Trump == 'diot':\n",
    "    print(\"God saves America\")\n",
    "else:\n",
    "    print(\"I don't believe it\")"
   ]
  },
  {
   "cell_type": "code",
   "execution_count": 30,
   "metadata": {},
   "outputs": [
    {
     "name": "stdout",
     "output_type": "stream",
     "text": [
      "he is at risk\n"
     ]
    }
   ],
   "source": [
    "Trump_age = 73\n",
    "Ivanka_age = 38\n",
    "if Trump_age or Ivanka_age> 60:\n",
    "    print(\"he is a susceptible person\")\n",
    "else:\n",
    "    print(\"they are not both susceptible\")"
   ]
  },
  {
   "cell_type": "code",
   "execution_count": 31,
   "metadata": {},
   "outputs": [
    {
     "name": "stdout",
     "output_type": "stream",
     "text": [
      "Hello, my name is Robert Downey and my age is 55\n",
      "My character is Iron Man in The Avengers\n"
     ]
    }
   ],
   "source": [
    "class superhero:\n",
    "  background = \"The Avengers\"\n",
    "  def __init__(self, name, age, character):\n",
    "    self.name = name\n",
    "    self.age = age\n",
    "    self.character = character\n",
    "\n",
    "  def say_hi(self):\n",
    "    print(\"Hello, my name is\", self.name, \"and my age is\", self.age)\n",
    "    print(\"My character is\", self.character, \"in\", self.background)\n",
    "\n",
    "IronMan = superhero(\"Robert Downey\", 55, \"Iron Man\")\n",
    "IronMan.say_hi()"
   ]
  },
  {
   "cell_type": "code",
   "execution_count": 32,
   "metadata": {},
   "outputs": [
    {
     "name": "stdout",
     "output_type": "stream",
     "text": [
      "Manhattan is hit hard\n",
      "LIC is hit hard\n",
      "Brooklyn is hit hard\n"
     ]
    }
   ],
   "source": [
    "hit_areas = ['Manhattan', 'LIC', 'Brooklyn']\n",
    "for area in hit_areas:\n",
    "    print(area, \"is hit hard\")"
   ]
  },
  {
   "cell_type": "code",
   "execution_count": 26,
   "metadata": {},
   "outputs": [
    {
     "name": "stdout",
     "output_type": "stream",
     "text": [
      "New York needs lots of help!\n",
      "New Jersey needs lots of help!\n",
      "California needs some help!\n",
      "Texas needs some help!\n"
     ]
    }
   ],
   "source": [
    "infected_cases = {'New York': 74319, 'New Jersey': 4407, 'California': 3247, 'Texas': 1421}\n",
    "for states in infected_cases:\n",
    "    if infected_cases[states] > 4000:\n",
    "        print(states, \"needs lots of help!\")\n",
    "    else:\n",
    "        print(states, \"needs some help!\")"
   ]
  },
  {
   "cell_type": "code",
   "execution_count": null,
   "metadata": {},
   "outputs": [],
   "source": []
  },
  {
   "cell_type": "code",
   "execution_count": null,
   "metadata": {},
   "outputs": [],
   "source": [
    "import datetime as dt\n",
    "import matplotlib.pyplot as plt\n",
    "from matplotlib import style\n",
    "import pandas as pd\n",
    "import pandas_datareader.data as web\n",
    "\n",
    "start = dt.datetime(2020, 1, 1)\n",
    "# create date object\n",
    "end = dt.datetime(2020, 3, 24)\n",
    "df = web.DataReader('TSLA', 'yahoo', start, end)\n",
    "df.to_csv('tsla.csv')\n",
    "print(df.tail())\n",
    "df = pd.read_csv('tsla.csv', parse_dates = True, index_col = 0)\n",
    "print(df.head())\n",
    "df['Adj Close'].plot()\n",
    "plt.savefig('closePrice.png')"
   ]
  }
 ],
 "metadata": {
  "kernelspec": {
   "display_name": "Python 3",
   "language": "python",
   "name": "python3"
  },
  "language_info": {
   "codemirror_mode": {
    "name": "ipython",
    "version": 3
   },
   "file_extension": ".py",
   "mimetype": "text/x-python",
   "name": "python",
   "nbconvert_exporter": "python",
   "pygments_lexer": "ipython3",
   "version": "3.7.6"
  }
 },
 "nbformat": 4,
 "nbformat_minor": 4
}
